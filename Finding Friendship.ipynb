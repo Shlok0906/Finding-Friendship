{
 "cells": [
  {
   "cell_type": "code",
   "execution_count": 1,
   "id": "a0e050d9-2fbc-48bf-a9c6-0cc1a55525bc",
   "metadata": {},
   "outputs": [],
   "source": [
    "from collections import deque, defaultdict"
   ]
  },
  {
   "cell_type": "code",
   "execution_count": 2,
   "id": "8821fca0-d4ec-4e97-9d7b-4e1b5d84bdb8",
   "metadata": {},
   "outputs": [],
   "source": [
    "class SocialNetwork:\n",
    "    def __init__(self):\n",
    "        self.friends = defaultdict(set)"
   ]
  },
  {
   "cell_type": "code",
   "execution_count": 3,
   "id": "36f381eb-2afe-4d21-8530-cbfb01720abc",
   "metadata": {},
   "outputs": [],
   "source": [
    "def add_friendship(self, person1, person2):\n",
    "    self.friends[person1].add(person2)\n",
    "    self.friends[person2].add(person1)"
   ]
  },
  {
   "cell_type": "code",
   "execution_count": 4,
   "id": "69265953-f0d8-4cd5-9574-62c30fd88f8b",
   "metadata": {},
   "outputs": [],
   "source": [
    "def get_friends(self, person):\n",
    "    return self.friends[person]"
   ]
  },
  {
   "cell_type": "code",
   "execution_count": 5,
   "id": "1308437d-daaa-4293-8fe0-df6b5e76f3fa",
   "metadata": {},
   "outputs": [],
   "source": [
    "def get_common_friends(self, person1, person2):\n",
    "    return self.friends[person1] & self.friends[person2]"
   ]
  },
  {
   "cell_type": "code",
   "execution_count": 6,
   "id": "c07c2119-77e1-47fd-9b90-50dfe9ed7bc2",
   "metadata": {},
   "outputs": [],
   "source": [
    "#The find nth connection method determines the shortest path (nth connection) between two people using a Breadth-First Search (BFS)\n",
    "def find_nth_connection(self, person1, person2):\n",
    "    if person1 not in self.friends or person2 not in self.friends:\n",
    "        return -1\n",
    "    visited = set()\n",
    "    queue = deque([(person1, 0)])\n",
    "    while queue:\n",
    "        current_person, level = queue.popleft()\n",
    "        if current_person == person2:\n",
    "            return level\n",
    "        for friend in self.friends[current_person]:\n",
    "            if friend not in visited:\n",
    "                visited.add(friend)\n",
    "                queue.append((friend, level + 1))\n",
    "    return -1"
   ]
  },
  {
   "cell_type": "code",
   "execution_count": 7,
   "id": "aef200bb-096c-44c4-91f7-8b30cc6cb587",
   "metadata": {},
   "outputs": [
    {
     "ename": "AttributeError",
     "evalue": "'SocialNetwork' object has no attribute 'add_friendship'",
     "output_type": "error",
     "traceback": [
      "\u001b[1;31m---------------------------------------------------------------------------\u001b[0m",
      "\u001b[1;31mAttributeError\u001b[0m                            Traceback (most recent call last)",
      "Cell \u001b[1;32mIn[7], line 27\u001b[0m\n\u001b[0;32m     24\u001b[0m     \u001b[38;5;28mprint\u001b[39m(\u001b[38;5;124m\"\u001b[39m\u001b[38;5;124mConnection between Alice and Frank:\u001b[39m\u001b[38;5;124m\"\u001b[39m, network\u001b[38;5;241m.\u001b[39mfind_nth_connection(\u001b[38;5;124m'\u001b[39m\u001b[38;5;124mAlice\u001b[39m\u001b[38;5;124m'\u001b[39m, \u001b[38;5;124m'\u001b[39m\u001b[38;5;124mFrank\u001b[39m\u001b[38;5;124m'\u001b[39m))  \u001b[38;5;66;03m# No connection\u001b[39;00m\n\u001b[0;32m     26\u001b[0m \u001b[38;5;28;01mif\u001b[39;00m \u001b[38;5;18m__name__\u001b[39m \u001b[38;5;241m==\u001b[39m \u001b[38;5;124m\"\u001b[39m\u001b[38;5;124m__main__\u001b[39m\u001b[38;5;124m\"\u001b[39m:\n\u001b[1;32m---> 27\u001b[0m     \u001b[43mmain\u001b[49m\u001b[43m(\u001b[49m\u001b[43m)\u001b[49m\n",
      "Cell \u001b[1;32mIn[7], line 5\u001b[0m, in \u001b[0;36mmain\u001b[1;34m()\u001b[0m\n\u001b[0;32m      2\u001b[0m network \u001b[38;5;241m=\u001b[39m SocialNetwork()\n\u001b[0;32m      4\u001b[0m \u001b[38;5;66;03m# Add friendships\u001b[39;00m\n\u001b[1;32m----> 5\u001b[0m \u001b[43mnetwork\u001b[49m\u001b[38;5;241;43m.\u001b[39;49m\u001b[43madd_friendship\u001b[49m(\u001b[38;5;124m'\u001b[39m\u001b[38;5;124mAlice\u001b[39m\u001b[38;5;124m'\u001b[39m, \u001b[38;5;124m'\u001b[39m\u001b[38;5;124mBob\u001b[39m\u001b[38;5;124m'\u001b[39m)\n\u001b[0;32m      6\u001b[0m network\u001b[38;5;241m.\u001b[39madd_friendship(\u001b[38;5;124m'\u001b[39m\u001b[38;5;124mBob\u001b[39m\u001b[38;5;124m'\u001b[39m, \u001b[38;5;124m'\u001b[39m\u001b[38;5;124mJanice\u001b[39m\u001b[38;5;124m'\u001b[39m)\n\u001b[0;32m      7\u001b[0m network\u001b[38;5;241m.\u001b[39madd_friendship(\u001b[38;5;124m'\u001b[39m\u001b[38;5;124mAlice\u001b[39m\u001b[38;5;124m'\u001b[39m, \u001b[38;5;124m'\u001b[39m\u001b[38;5;124mCharlie\u001b[39m\u001b[38;5;124m'\u001b[39m)\n",
      "\u001b[1;31mAttributeError\u001b[0m: 'SocialNetwork' object has no attribute 'add_friendship'"
     ]
    }
   ],
   "source": [
    "def main():\n",
    "    network = SocialNetwork()\n",
    "\n",
    "    # Add friendships\n",
    "    network.add_friendship('Alice', 'Bob')\n",
    "    network.add_friendship('Bob', 'Janice')\n",
    "    network.add_friendship('Alice', 'Charlie')\n",
    "    network.add_friendship('Charlie', 'David')\n",
    "    network.add_friendship('David', 'Eva')\n",
    "\n",
    "    # Get all friends of Alice\n",
    "    print(\"Friends of Alice:\", network.get_friends('Alice'))\n",
    "\n",
    "    # Get all friends of Bob\n",
    "    print(\"Friends of Bob:\", network.get_friends('Bob'))\n",
    "\n",
    "    # Get common friends of Alice and Bob\n",
    "    print(\"Common friends of Alice and Bob:\", network.get_common_friends('Alice', 'Bob'))\n",
    "\n",
    "    # Find nth connection\n",
    "    print(\"Connection between Alice and Janice:\", network.find_nth_connection('Alice', 'Janice'))\n",
    "    print(\"Connection between Alice and Bob:\", network.find_nth_connection('Alice', 'Bob'))\n",
    "    print(\"Connection between Alice and Eva:\", network.find_nth_connection('Alice', 'Eva'))\n",
    "    print(\"Connection between Alice and Frank:\", network.find_nth_connection('Alice', 'Frank'))  # No connection\n",
    "\n",
    "if __name__ == \"__main__\":\n",
    "    main()"
   ]
  },
  {
   "cell_type": "code",
   "execution_count": null,
   "id": "ea4906ae-84bd-4eae-8d75-37f7b4a5e157",
   "metadata": {},
   "outputs": [],
   "source": []
  }
 ],
 "metadata": {
  "kernelspec": {
   "display_name": "Python 3 (ipykernel)",
   "language": "python",
   "name": "python3"
  },
  "language_info": {
   "codemirror_mode": {
    "name": "ipython",
    "version": 3
   },
   "file_extension": ".py",
   "mimetype": "text/x-python",
   "name": "python",
   "nbconvert_exporter": "python",
   "pygments_lexer": "ipython3",
   "version": "3.12.4"
  }
 },
 "nbformat": 4,
 "nbformat_minor": 5
}
